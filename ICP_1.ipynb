{
  "nbformat": 4,
  "nbformat_minor": 0,
  "metadata": {
    "colab": {
      "provenance": [],
      "authorship_tag": "ABX9TyMsW3vU/bFXZA378YOgGC8j",
      "include_colab_link": true
    },
    "kernelspec": {
      "name": "python3",
      "display_name": "Python 3"
    },
    "language_info": {
      "name": "python"
    }
  },
  "cells": [
    {
      "cell_type": "markdown",
      "metadata": {
        "id": "view-in-github",
        "colab_type": "text"
      },
      "source": [
        "<a href=\"https://colab.research.google.com/github/sudeepkanthala/ICP-1/blob/main/ICP_1.ipynb\" target=\"_parent\"><img src=\"https://colab.research.google.com/assets/colab-badge.svg\" alt=\"Open In Colab\"/></a>"
      ]
    },
    {
      "cell_type": "markdown",
      "source": [
        "1. Write a python program for the following:\n",
        "– Input the string “Python” as a list of characters from console, delete at least 2 characters, reversethe\n",
        "resultant string and print it.\n",
        "Sample input:\n",
        "•python\n",
        "•Sample output:\n",
        "•ntyp"
      ],
      "metadata": {
        "id": "VBnqTa3twB6R"
      }
    },
    {
      "cell_type": "code",
      "source": [
        "input1 = list(input(\"Enter a string: \"))\n",
        "del input1[0]\n",
        "del input1[3]\n",
        "output = input1[::-1]\n",
        "print(''.join(output))\n"
      ],
      "metadata": {
        "colab": {
          "base_uri": "https://localhost:8080/"
        },
        "id": "0-HRX-vGoYRf",
        "outputId": "8484b896-bbd7-4986-b26d-52dce9138947"
      },
      "execution_count": 1,
      "outputs": [
        {
          "output_type": "stream",
          "name": "stdout",
          "text": [
            "Enter a string: python\n",
            "nhty\n"
          ]
        }
      ]
    },
    {
      "cell_type": "markdown",
      "source": [
        "– Take two numbers from user and perform at least 4 arithmetic operations on them."
      ],
      "metadata": {
        "id": "d26K0lk1of1m"
      }
    },
    {
      "cell_type": "code",
      "source": [
        "n1 = int(input(\"num1: \"))\n",
        "n2 = int(input(\"num2: \"))\n",
        "\n",
        "sum = n1 + n2\n",
        "sub = n1- n2\n",
        "mul = n1 * n2\n",
        "div = n1 /n2\n",
        "\n",
        "print(sum)\n",
        "print(sub)\n",
        "print(mul)\n",
        "print(div)\n"
      ],
      "metadata": {
        "colab": {
          "base_uri": "https://localhost:8080/"
        },
        "id": "Pb-omNFxog1i",
        "outputId": "15040e11-a84a-4cd3-c0e2-e431664ca87b"
      },
      "execution_count": null,
      "outputs": [
        {
          "output_type": "stream",
          "name": "stdout",
          "text": [
            "num1: 2\n",
            "num2: 4\n",
            "6\n",
            "-2\n",
            "8\n",
            "0.5\n"
          ]
        }
      ]
    },
    {
      "cell_type": "markdown",
      "source": [
        "2. Write a program that accepts a sentence and replace each occurrence of ‘python’ with ‘pythons’.\n",
        "•Sample input:\n",
        "•I love playing with python\n",
        "•Sample output:\n",
        "•I love playing with pythons"
      ],
      "metadata": {
        "id": "y9j-2Qhaok--"
      }
    },
    {
      "cell_type": "code",
      "source": [
        "s = input(\"Enter a sentence: \")\n",
        "s1 = s.replace(\"python\", \"pythons\")\n",
        "print(s1)\n"
      ],
      "metadata": {
        "colab": {
          "base_uri": "https://localhost:8080/"
        },
        "id": "RuDYxiLLoopZ",
        "outputId": "686c8391-0940-49e7-d961-c779968ef290"
      },
      "execution_count": null,
      "outputs": [
        {
          "output_type": "stream",
          "name": "stdout",
          "text": [
            "Enter a sentence: i love python\n",
            "i love pythons\n"
          ]
        }
      ]
    },
    {
      "cell_type": "markdown",
      "source": [
        "3. Use the if statement conditions to write a program to print the letter grade based on an input class score. Use the\n",
        "grading scheme we are using in this class."
      ],
      "metadata": {
        "id": "VX9AOuTJot1L"
      }
    },
    {
      "cell_type": "code",
      "source": [
        "s = int(input(\"Enter score: \"))\n",
        "\n",
        "if (s >= 90 and s<= 100):\n",
        "    print(\"A\")\n",
        "elif (s >= 80 and s< 90):\n",
        "    print(\"B\")\n",
        "elif (s >= 70 and s< 80):\n",
        "    print(\"C\")\n",
        "else:\n",
        "    print(\"D\")\n"
      ],
      "metadata": {
        "colab": {
          "base_uri": "https://localhost:8080/"
        },
        "id": "c5E5QbA_ouor",
        "outputId": "1bc336bd-0cc6-420e-d5eb-7ebbd40269ce"
      },
      "execution_count": null,
      "outputs": [
        {
          "output_type": "stream",
          "name": "stdout",
          "text": [
            "Enter score: 79\n",
            "C\n"
          ]
        }
      ]
    }
  ]
}